{
 "cells": [
  {
   "cell_type": "markdown",
   "id": "fe405f77-5b97-4f48-aa28-72ad7d9282ac",
   "metadata": {},
   "source": [
    "# Algoritmo Perceptron (Fase Treinamento)"
   ]
  },
  {
   "cell_type": "code",
   "execution_count": 1,
   "id": "1d53887f-8581-47bb-9b99-9bbe7f2a2d3f",
   "metadata": {},
   "outputs": [],
   "source": [
    "import numpy as np"
   ]
  },
  {
   "cell_type": "code",
   "execution_count": 77,
   "id": "3077eb74-6e47-41b0-8768-1b8ce5d8ad45",
   "metadata": {},
   "outputs": [],
   "source": [
    "# valores de entrada\n",
    "X = np.array([\n",
    "    [-1, 0.1, 0.4, 0.7],\n",
    "    [-1, 0.3, 0.7, 0.2],\n",
    "    [-1, 0.6, 0.9, 0.8],\n",
    "    [-1, 0.5, 0.7, 0.1],\n",
    "])\n",
    "\n",
    "d = np.array([1, -1, -1, 1]) # valores de X\n",
    "\n",
    "w = np.array([0.03, 0.04, 0.022, 0.005]) # pesos\n",
    "\n",
    "n = 0.01 # taxa de aprendizagem\n",
    "\n",
    "def degrau_bipolar(x):\n",
    "    return np.where(x >= 0, 1, -1)\n",
    "\n",
    "contador_epocas = 0\n",
    "\n",
    "while contador_epocas <= 200:\n",
    "    \n",
    "    erro = False\n",
    "    \n",
    "    for i in range(len(X)):\n",
    "        \n",
    "        u = np.dot(w, X[i])\n",
    "        y = degrau_bipolar(u)\n",
    "        \n",
    "        if y != d[i]:\n",
    "            w = w + n * (d[i] - y) * X[i]\n",
    "            erro = True\n",
    "            \n",
    "    contador_epocas += 1\n",
    "    \n",
    "    if not erro:\n",
    "        break"
   ]
  },
  {
   "cell_type": "code",
   "execution_count": null,
   "id": "2cce3acb-5151-4458-93d0-2d506e4576ef",
   "metadata": {},
   "outputs": [],
   "source": []
  }
 ],
 "metadata": {
  "kernelspec": {
   "display_name": "Python 3 (ipykernel)",
   "language": "python",
   "name": "python3"
  },
  "language_info": {
   "codemirror_mode": {
    "name": "ipython",
    "version": 3
   },
   "file_extension": ".py",
   "mimetype": "text/x-python",
   "name": "python",
   "nbconvert_exporter": "python",
   "pygments_lexer": "ipython3",
   "version": "3.12.3"
  }
 },
 "nbformat": 4,
 "nbformat_minor": 5
}
