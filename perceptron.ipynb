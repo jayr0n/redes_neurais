{
 "cells": [
  {
   "cell_type": "markdown",
   "id": "fe405f77-5b97-4f48-aa28-72ad7d9282ac",
   "metadata": {},
   "source": [
    "# Algoritmo Perceptron (Fase Treinamento)"
   ]
  },
  {
   "cell_type": "code",
   "execution_count": 1,
   "id": "1d53887f-8581-47bb-9b99-9bbe7f2a2d3f",
   "metadata": {},
   "outputs": [],
   "source": [
    "import numpy as np"
   ]
  },
  {
   "cell_type": "code",
   "execution_count": 77,
   "id": "3077eb74-6e47-41b0-8768-1b8ce5d8ad45",
   "metadata": {},
   "outputs": [],
   "source": [
    "# valores de entrada\n",
    "X = np.array([\n",
    "    [-1, 0.1, 0.4, 0.7],\n",
    "    [-1, 0.3, 0.7, 0.2],\n",
    "    [-1, 0.6, 0.9, 0.8],\n",
    "    [-1, 0.5, 0.7, 0.1],\n",
    "])\n",
    "\n",
    "d = np.array([1, -1, -1, 1]) # valores de X\n",
    "\n",
    "w = np.array([0.03, 0.04, 0.022, 0.005]) # pesos\n",
    "\n",
    "n = 0.01 # taxa de aprendizagem\n",
    "\n",
    "def degrau_bipolar(x):\n",
    "    return np.where(x >= 0, 1, -1)\n",
    "\n",
    "contador_epocas = 0\n",
    "\n",
    "while contador_epocas <= 200:\n",
    "    \n",
    "    erro = False\n",
    "    \n",
    "    for i in range(len(X)):\n",
    "        \n",
    "        u = np.dot(w, X[i])\n",
    "        y = degrau_bipolar(u)\n",
    "        \n",
    "        if y != d[i]:\n",
    "            w = w + n * (d[i] - y) * X[i]\n",
    "            erro = True\n",
    "            \n",
    "    contador_epocas += 1\n",
    "    \n",
    "    if not erro:\n",
    "        break"
   ]
  },
  {
   "cell_type": "markdown",
   "id": "60c18f3f-b11c-4e5b-a83e-047485584445",
   "metadata": {},
   "source": [
    "# Fase de Operação"
   ]
  },
  {
   "cell_type": "code",
   "execution_count": 81,
   "id": "7df88757-b12b-4683-aed1-e8d848a6e269",
   "metadata": {},
   "outputs": [
    {
     "name": "stdout",
     "output_type": "stream",
     "text": [
      "Pertence a classe A\n"
     ]
    }
   ],
   "source": [
    "amostra_x = np.array([-1, 0.3, 0.7, 0.2])\n",
    "\n",
    "peso_treinamento = w.copy()\n",
    "\n",
    "u_operacao = np.dot(peso_treinamento, amostra_x)\n",
    "\n",
    "y_operacao = degrau_bipolar(u_operacao)\n",
    "\n",
    "if y_operacao == -1:\n",
    "    print(\"Pertence a classe A\")\n",
    "if y_operacao == 1:\n",
    "    print(\"Pertence a classe B\")"
   ]
  },
  {
   "cell_type": "code",
   "execution_count": 80,
   "id": "d22a8ecc-8b0d-4cc9-8ac5-bd9841730fe7",
   "metadata": {},
   "outputs": [
    {
     "data": {
      "text/plain": [
       "array([-0.05 ,  0.146, -0.174,  0.011])"
      ]
     },
     "execution_count": 80,
     "metadata": {},
     "output_type": "execute_result"
    }
   ],
   "source": [
    "w"
   ]
  },
  {
   "cell_type": "code",
   "execution_count": null,
   "id": "148fdbd4-68a2-4c5a-8efd-7c3855859d43",
   "metadata": {},
   "outputs": [],
   "source": []
  }
 ],
 "metadata": {
  "kernelspec": {
   "display_name": "Python 3 (ipykernel)",
   "language": "python",
   "name": "python3"
  },
  "language_info": {
   "codemirror_mode": {
    "name": "ipython",
    "version": 3
   },
   "file_extension": ".py",
   "mimetype": "text/x-python",
   "name": "python",
   "nbconvert_exporter": "python",
   "pygments_lexer": "ipython3",
   "version": "3.12.3"
  }
 },
 "nbformat": 4,
 "nbformat_minor": 5
}
